{
 "cells": [
  {
   "cell_type": "markdown",
   "metadata": {},
   "source": [
    "# Data Understanding:"
   ]
  },
  {
   "cell_type": "markdown",
   "metadata": {},
   "source": [
    "Dataset contains several attributes such as:\n",
    "\n",
    "1.SEVERITYCODE\n",
    "\n",
    "2.X\n",
    "\n",
    "3.Y\n",
    "\n",
    "4.OBJECTID\n",
    "\n",
    "5.INCKEY\n",
    "\n",
    "6.COLDETKEY\n",
    "\n",
    "7.REPORTNO\n",
    "\n",
    "8.STATUS\n",
    "\n",
    "9.ADDRTYPE\n",
    "\n",
    "10.INTKEY\n",
    "\n",
    "11.LOCATION\n",
    "\n",
    "12.EXCEPTRSNCODE\n",
    "\n",
    "13.EXCEPTRSNDESC\n",
    "\n",
    "14.SEVERITYCODE.1\n",
    "\n",
    "15.SEVERITYDESC\n",
    "\n",
    "16.COLLISIONTYPE\n",
    "\n",
    "17.PERSONCOUNT\n",
    "\n",
    "18.PEDCOUNT\n",
    "\n",
    "19.PEDCYLCOUNT\n",
    "\n",
    "20.VEHCOUNT\n",
    "\n",
    "21.INCDATE\n",
    "\n",
    "22.INCDTTM\n",
    "\n",
    "23.JUNCTIONTYPE\n",
    "\n",
    "24.SDOT_COLCODE\n",
    "\n",
    "25.SDOR_COLDESC\n",
    "\n",
    "26.INATTENTIONIND\n",
    "\n",
    "27.UNDERINFL\n",
    "\n",
    "28.WEATHER\n",
    "\n",
    "29.ROADCOND\n",
    "\n",
    "30.LIGHTCOND\n",
    "\n",
    "31.PEDROWNOTGRNT\n",
    "\n",
    "32.SDOTCOLUMN\n",
    "\n",
    "33.SPEEDING\n",
    "\n",
    "34.ST_COLCODE\n",
    "\n",
    "35.ST_COLDESC\n",
    "\n",
    "36.SEGLANEKEY\n",
    "\n",
    "37.CROSSWALKKEY\n",
    "\n",
    "38.HITPARKEDCAR"
   ]
  },
  {
   "cell_type": "markdown",
   "metadata": {},
   "source": [
    "# Data Preparation:"
   ]
  },
  {
   "cell_type": "markdown",
   "metadata": {},
   "source": [
    "The target variable we will be considering for the analysis will be - 'SEVERITYCODE' as it used to depict the severity of the accident. The same is denoted as 0 or 1 within the dataset; where\n",
    "\n",
    "\"0\" denotes Property damage\n",
    "\"1\" denotes Severe Injury"
   ]
  },
  {
   "cell_type": "markdown",
   "metadata": {},
   "source": [
    "# Attributes :"
   ]
  },
  {
   "cell_type": "markdown",
   "metadata": {},
   "source": [
    "We analyzed that the attributes used to describe the severity of an accident are:\n",
    "\n",
    "\"WEATHER\"\n",
    "\"ROADCOND\"\n",
    "\"ADDRTYPE\"\n",
    "\"COLLISIONTYPE\"\n",
    "\"LIGHTCOND\""
   ]
  },
  {
   "cell_type": "markdown",
   "metadata": {},
   "source": [
    "# Data Cleaning"
   ]
  },
  {
   "cell_type": "markdown",
   "metadata": {},
   "source": [
    "The data needs to be cleanned as it is not fit for analysis. There are unncessary columns and also the datatypes needs changing."
   ]
  },
  {
   "cell_type": "code",
   "execution_count": null,
   "metadata": {},
   "outputs": [],
   "source": []
  },
  {
   "cell_type": "code",
   "execution_count": null,
   "metadata": {},
   "outputs": [],
   "source": []
  }
 ],
 "metadata": {
  "kernelspec": {
   "display_name": "Python 3",
   "language": "python",
   "name": "python3"
  },
  "language_info": {
   "codemirror_mode": {
    "name": "ipython",
    "version": 3
   },
   "file_extension": ".py",
   "mimetype": "text/x-python",
   "name": "python",
   "nbconvert_exporter": "python",
   "pygments_lexer": "ipython3",
   "version": "3.7.6"
  }
 },
 "nbformat": 4,
 "nbformat_minor": 4
}
