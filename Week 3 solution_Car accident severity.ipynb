{
 "cells": [
  {
   "cell_type": "markdown",
   "metadata": {},
   "source": [
    "# Data Understanding:"
   ]
  },
  {
   "cell_type": "markdown",
   "metadata": {},
   "source": [
    "Dataset contains several attributes such as:\n",
    "\n",
    "1.SEVERITYCODE\n",
    "\n",
    "2.X\n",
    "\n",
    "3.Y\n",
    "\n",
    "4.OBJECTID\n",
    "\n",
    "5.INCKEY\n",
    "\n",
    "6.COLDETKEY\n",
    "\n",
    "7.REPORTNO\n",
    "\n",
    "8.STATUS\n",
    "\n",
    "9.ADDRTYPE\n",
    "\n",
    "10.INTKEY\n",
    "\n",
    "11.LOCATION\n",
    "\n",
    "12.EXCEPTRSNCODE\n",
    "\n",
    "13.EXCEPTRSNDESC\n",
    "\n",
    "14.SEVERITYCODE.1\n",
    "\n",
    "15.SEVERITYDESC\n",
    "\n",
    "16.COLLISIONTYPE\n",
    "\n",
    "17.PERSONCOUNT\n",
    "\n",
    "18.PEDCOUNT\n",
    "\n",
    "19.PEDCYLCOUNT\n",
    "\n",
    "20.VEHCOUNT\n",
    "\n",
    "21.INCDATE\n",
    "\n",
    "22.INCDTTM\n",
    "\n",
    "23.JUNCTIONTYPE\n",
    "\n",
    "24.SDOT_COLCODE\n",
    "\n",
    "25.SDOR_COLDESC\n",
    "\n",
    "26.INATTENTIONIND\n",
    "\n",
    "27.UNDERINFL\n",
    "\n",
    "28.WEATHER\n",
    "\n",
    "29.ROADCOND\n",
    "\n",
    "30.LIGHTCOND\n",
    "\n",
    "31.PEDROWNOTGRNT\n",
    "\n",
    "32.SDOTCOLUMN\n",
    "\n",
    "33.SPEEDING\n",
    "\n",
    "34.ST_COLCODE\n",
    "\n",
    "35.ST_COLDESC\n",
    "\n",
    "36.SEGLANEKEY\n",
    "\n",
    "37.CROSSWALKKEY\n",
    "\n",
    "38.HITPARKEDCAR"
   ]
  },
  {
   "cell_type": "markdown",
   "metadata": {},
   "source": [
    "# Data Preparation:"
   ]
  },
  {
   "cell_type": "markdown",
   "metadata": {},
   "source": [
    "The target variable we will be considering for the analysis will be - 'SEVERITYCODE' as it used to depict the severity of the accident. The same is denoted as 0 or 1 within the dataset; where\n",
    "\n",
    "\"0\" denotes Property damage\n",
    "\"1\" denotes Severe Injury"
   ]
  },
  {
   "cell_type": "markdown",
   "metadata": {},
   "source": [
    "# Attributes :"
   ]
  },
  {
   "cell_type": "markdown",
   "metadata": {},
   "source": [
    "We analyzed that the attributes used to describe the severity of an accident are:\n",
    "\n",
    "\"WEATHER\"\n",
    "\"ROADCOND\"\n",
    "\"ADDRTYPE\"\n",
    "\"COLLISIONTYPE\"\n",
    "\"LIGHTCOND\""
   ]
  },
  {
   "cell_type": "markdown",
   "metadata": {},
   "source": [
    "# Data Cleaning"
   ]
  },
  {
   "cell_type": "markdown",
   "metadata": {},
   "source": [
    "The data needs to be cleanned as it is not fit for analysis. There are unncessary columns and also the datatypes needs changing."
   ]
  },
  {
   "cell_type": "markdown",
   "metadata": {},
   "source": [
    "**Importing the Dataset**"
   ]
  },
  {
   "cell_type": "code",
   "execution_count": 1,
   "metadata": {},
   "outputs": [],
   "source": [
    "import pandas as pd\n",
    "import numpy as np\n"
   ]
  },
  {
   "cell_type": "code",
   "execution_count": 2,
   "metadata": {},
   "outputs": [
    {
     "name": "stderr",
     "output_type": "stream",
     "text": [
      "C:\\Users\\SangeethaK\\anaconda3\\lib\\site-packages\\ipykernel_launcher.py:9: SettingWithCopyWarning: \n",
      "A value is trying to be set on a copy of a slice from a DataFrame\n",
      "\n",
      "See the caveats in the documentation: https://pandas.pydata.org/pandas-docs/stable/user_guide/indexing.html#returning-a-view-versus-a-copy\n",
      "  if __name__ == '__main__':\n"
     ]
    }
   ],
   "source": [
    "df=pd.read_csv('https://s3.us.cloud-object-storage.appdomain.cloud/cf-courses-data/CognitiveClass/DP0701EN/version-2/Data-Collisions.csv',low_memory=False)\n",
    "df.head()\n",
    "df.fillna(0)\n",
    "df.columns\n",
    "\n",
    "cdf=df[['SEVERITYCODE','WEATHER','ADDRTYPE','COLLISIONTYPE','JUNCTIONTYPE','ROADCOND', 'LIGHTCOND']]\n",
    "cdf.head()\n",
    "\n",
    "cdf.dropna(inplace=True)"
   ]
  },
  {
   "cell_type": "code",
   "execution_count": 3,
   "metadata": {},
   "outputs": [
    {
     "data": {
      "text/html": [
       "<div>\n",
       "<style scoped>\n",
       "    .dataframe tbody tr th:only-of-type {\n",
       "        vertical-align: middle;\n",
       "    }\n",
       "\n",
       "    .dataframe tbody tr th {\n",
       "        vertical-align: top;\n",
       "    }\n",
       "\n",
       "    .dataframe thead th {\n",
       "        text-align: right;\n",
       "    }\n",
       "</style>\n",
       "<table border=\"1\" class=\"dataframe\">\n",
       "  <thead>\n",
       "    <tr style=\"text-align: right;\">\n",
       "      <th></th>\n",
       "      <th>SEVERITYCODE</th>\n",
       "      <th>WEATHER</th>\n",
       "      <th>ADDRTYPE</th>\n",
       "      <th>COLLISIONTYPE</th>\n",
       "      <th>JUNCTIONTYPE</th>\n",
       "      <th>ROADCOND</th>\n",
       "      <th>LIGHTCOND</th>\n",
       "    </tr>\n",
       "  </thead>\n",
       "  <tbody>\n",
       "    <tr>\n",
       "      <th>0</th>\n",
       "      <td>2</td>\n",
       "      <td>Overcast</td>\n",
       "      <td>Intersection</td>\n",
       "      <td>Angles</td>\n",
       "      <td>At Intersection (intersection related)</td>\n",
       "      <td>Wet</td>\n",
       "      <td>Daylight</td>\n",
       "    </tr>\n",
       "    <tr>\n",
       "      <th>1</th>\n",
       "      <td>1</td>\n",
       "      <td>Raining</td>\n",
       "      <td>Block</td>\n",
       "      <td>Sideswipe</td>\n",
       "      <td>Mid-Block (not related to intersection)</td>\n",
       "      <td>Wet</td>\n",
       "      <td>Dark - Street Lights On</td>\n",
       "    </tr>\n",
       "    <tr>\n",
       "      <th>2</th>\n",
       "      <td>1</td>\n",
       "      <td>Overcast</td>\n",
       "      <td>Block</td>\n",
       "      <td>Parked Car</td>\n",
       "      <td>Mid-Block (not related to intersection)</td>\n",
       "      <td>Dry</td>\n",
       "      <td>Daylight</td>\n",
       "    </tr>\n",
       "    <tr>\n",
       "      <th>3</th>\n",
       "      <td>1</td>\n",
       "      <td>Clear</td>\n",
       "      <td>Block</td>\n",
       "      <td>Other</td>\n",
       "      <td>Mid-Block (not related to intersection)</td>\n",
       "      <td>Dry</td>\n",
       "      <td>Daylight</td>\n",
       "    </tr>\n",
       "    <tr>\n",
       "      <th>4</th>\n",
       "      <td>2</td>\n",
       "      <td>Raining</td>\n",
       "      <td>Intersection</td>\n",
       "      <td>Angles</td>\n",
       "      <td>At Intersection (intersection related)</td>\n",
       "      <td>Wet</td>\n",
       "      <td>Daylight</td>\n",
       "    </tr>\n",
       "  </tbody>\n",
       "</table>\n",
       "</div>"
      ],
      "text/plain": [
       "   SEVERITYCODE   WEATHER      ADDRTYPE COLLISIONTYPE  \\\n",
       "0             2  Overcast  Intersection        Angles   \n",
       "1             1   Raining         Block     Sideswipe   \n",
       "2             1  Overcast         Block    Parked Car   \n",
       "3             1     Clear         Block         Other   \n",
       "4             2   Raining  Intersection        Angles   \n",
       "\n",
       "                              JUNCTIONTYPE ROADCOND                LIGHTCOND  \n",
       "0   At Intersection (intersection related)      Wet                 Daylight  \n",
       "1  Mid-Block (not related to intersection)      Wet  Dark - Street Lights On  \n",
       "2  Mid-Block (not related to intersection)      Dry                 Daylight  \n",
       "3  Mid-Block (not related to intersection)      Dry                 Daylight  \n",
       "4   At Intersection (intersection related)      Wet                 Daylight  "
      ]
     },
     "execution_count": 3,
     "metadata": {},
     "output_type": "execute_result"
    }
   ],
   "source": [
    "\n",
    "cdf.head()"
   ]
  },
  {
   "cell_type": "code",
   "execution_count": 4,
   "metadata": {},
   "outputs": [
    {
     "data": {
      "text/plain": [
       "Parked Car    43119\n",
       "Angles        34453\n",
       "Rear Ended    33641\n",
       "Other         22960\n",
       "Sideswipe     18285\n",
       "Left Turn     13637\n",
       "Pedestrian     6513\n",
       "Cycles         5362\n",
       "Right Turn     2929\n",
       "Head On        1996\n",
       "Name: COLLISIONTYPE, dtype: int64"
      ]
     },
     "execution_count": 4,
     "metadata": {},
     "output_type": "execute_result"
    }
   ],
   "source": [
    "cdf.COLLISIONTYPE.value_counts()"
   ]
  },
  {
   "cell_type": "code",
   "execution_count": 5,
   "metadata": {},
   "outputs": [],
   "source": [
    "\n",
    "import seaborn as sns"
   ]
  },
  {
   "cell_type": "code",
   "execution_count": 6,
   "metadata": {},
   "outputs": [
    {
     "name": "stderr",
     "output_type": "stream",
     "text": [
      "C:\\Users\\SangeethaK\\anaconda3\\lib\\site-packages\\pandas\\core\\generic.py:5303: SettingWithCopyWarning: \n",
      "A value is trying to be set on a copy of a slice from a DataFrame.\n",
      "Try using .loc[row_indexer,col_indexer] = value instead\n",
      "\n",
      "See the caveats in the documentation: https://pandas.pydata.org/pandas-docs/stable/user_guide/indexing.html#returning-a-view-versus-a-copy\n",
      "  self[name] = value\n"
     ]
    },
    {
     "data": {
      "text/html": [
       "<div>\n",
       "<style scoped>\n",
       "    .dataframe tbody tr th:only-of-type {\n",
       "        vertical-align: middle;\n",
       "    }\n",
       "\n",
       "    .dataframe tbody tr th {\n",
       "        vertical-align: top;\n",
       "    }\n",
       "\n",
       "    .dataframe thead th {\n",
       "        text-align: right;\n",
       "    }\n",
       "</style>\n",
       "<table border=\"1\" class=\"dataframe\">\n",
       "  <thead>\n",
       "    <tr style=\"text-align: right;\">\n",
       "      <th></th>\n",
       "      <th>SEVERITYCODE</th>\n",
       "      <th>WEATHER</th>\n",
       "      <th>ADDRTYPE</th>\n",
       "      <th>COLLISIONTYPE</th>\n",
       "      <th>JUNCTIONTYPE</th>\n",
       "      <th>ROADCOND</th>\n",
       "      <th>LIGHTCOND</th>\n",
       "    </tr>\n",
       "  </thead>\n",
       "  <tbody>\n",
       "    <tr>\n",
       "      <th>0</th>\n",
       "      <td>1</td>\n",
       "      <td>Overcast</td>\n",
       "      <td>Intersection</td>\n",
       "      <td>Angles</td>\n",
       "      <td>At Intersection (intersection related)</td>\n",
       "      <td>Wet</td>\n",
       "      <td>Daylight</td>\n",
       "    </tr>\n",
       "    <tr>\n",
       "      <th>1</th>\n",
       "      <td>0</td>\n",
       "      <td>Raining</td>\n",
       "      <td>Block</td>\n",
       "      <td>Sideswipe</td>\n",
       "      <td>Mid-Block (not related to intersection)</td>\n",
       "      <td>Wet</td>\n",
       "      <td>Dark - Street Lights On</td>\n",
       "    </tr>\n",
       "    <tr>\n",
       "      <th>2</th>\n",
       "      <td>0</td>\n",
       "      <td>Overcast</td>\n",
       "      <td>Block</td>\n",
       "      <td>Parked Car</td>\n",
       "      <td>Mid-Block (not related to intersection)</td>\n",
       "      <td>Dry</td>\n",
       "      <td>Daylight</td>\n",
       "    </tr>\n",
       "    <tr>\n",
       "      <th>3</th>\n",
       "      <td>0</td>\n",
       "      <td>Clear</td>\n",
       "      <td>Block</td>\n",
       "      <td>Other</td>\n",
       "      <td>Mid-Block (not related to intersection)</td>\n",
       "      <td>Dry</td>\n",
       "      <td>Daylight</td>\n",
       "    </tr>\n",
       "    <tr>\n",
       "      <th>4</th>\n",
       "      <td>1</td>\n",
       "      <td>Raining</td>\n",
       "      <td>Intersection</td>\n",
       "      <td>Angles</td>\n",
       "      <td>At Intersection (intersection related)</td>\n",
       "      <td>Wet</td>\n",
       "      <td>Daylight</td>\n",
       "    </tr>\n",
       "  </tbody>\n",
       "</table>\n",
       "</div>"
      ],
      "text/plain": [
       "   SEVERITYCODE   WEATHER      ADDRTYPE COLLISIONTYPE  \\\n",
       "0             1  Overcast  Intersection        Angles   \n",
       "1             0   Raining         Block     Sideswipe   \n",
       "2             0  Overcast         Block    Parked Car   \n",
       "3             0     Clear         Block         Other   \n",
       "4             1   Raining  Intersection        Angles   \n",
       "\n",
       "                              JUNCTIONTYPE ROADCOND                LIGHTCOND  \n",
       "0   At Intersection (intersection related)      Wet                 Daylight  \n",
       "1  Mid-Block (not related to intersection)      Wet  Dark - Street Lights On  \n",
       "2  Mid-Block (not related to intersection)      Dry                 Daylight  \n",
       "3  Mid-Block (not related to intersection)      Dry                 Daylight  \n",
       "4   At Intersection (intersection related)      Wet                 Daylight  "
      ]
     },
     "execution_count": 6,
     "metadata": {},
     "output_type": "execute_result"
    }
   ],
   "source": [
    "cdf.SEVERITYCODE=cdf.SEVERITYCODE.map(lambda SEVERITYCODE:SEVERITYCODE-1)\n",
    "cdf.head()"
   ]
  },
  {
   "cell_type": "code",
   "execution_count": 7,
   "metadata": {},
   "outputs": [],
   "source": [
    "new=cdf[cdf.SEVERITYCODE==1]\n"
   ]
  },
  {
   "cell_type": "code",
   "execution_count": 8,
   "metadata": {},
   "outputs": [
    {
     "data": {
      "text/plain": [
       "Block           29252\n",
       "Intersection    27344\n",
       "Alley              29\n",
       "Name: ADDRTYPE, dtype: int64"
      ]
     },
     "execution_count": 8,
     "metadata": {},
     "output_type": "execute_result"
    }
   ],
   "source": [
    "new.ADDRTYPE.value_counts()"
   ]
  },
  {
   "cell_type": "code",
   "execution_count": 9,
   "metadata": {},
   "outputs": [
    {
     "name": "stderr",
     "output_type": "stream",
     "text": [
      "C:\\Users\\SangeethaK\\anaconda3\\lib\\site-packages\\pandas\\core\\frame.py:3997: SettingWithCopyWarning: \n",
      "A value is trying to be set on a copy of a slice from a DataFrame\n",
      "\n",
      "See the caveats in the documentation: https://pandas.pydata.org/pandas-docs/stable/user_guide/indexing.html#returning-a-view-versus-a-copy\n",
      "  errors=errors,\n"
     ]
    }
   ],
   "source": [
    "\n",
    "cdf.drop('JUNCTIONTYPE',axis=1,inplace=True)\n",
    "\n",
    "new.drop(['JUNCTIONTYPE'],axis=1,inplace=True)"
   ]
  },
  {
   "cell_type": "code",
   "execution_count": 10,
   "metadata": {},
   "outputs": [
    {
     "data": {
      "text/plain": [
       "Parked Car    43119\n",
       "Angles        34453\n",
       "Rear Ended    33641\n",
       "Other         22960\n",
       "Sideswipe     18285\n",
       "Left Turn     13637\n",
       "Pedestrian     6513\n",
       "Cycles         5362\n",
       "Right Turn     2929\n",
       "Head On        1996\n",
       "Name: COLLISIONTYPE, dtype: int64"
      ]
     },
     "execution_count": 10,
     "metadata": {},
     "output_type": "execute_result"
    }
   ],
   "source": [
    "cdf.COLLISIONTYPE.value_counts()"
   ]
  },
  {
   "cell_type": "code",
   "execution_count": 11,
   "metadata": {},
   "outputs": [
    {
     "data": {
      "image/png": "[encoded data removed]",
      "text/plain": [
       "<Figure size 432x288 with 1 Axes>"
      ]
     },
     "metadata": {
      "needs_background": "light"
     },
     "output_type": "display_data"
    }
   ],
   "source": [
    "import matplotlib.pyplot as plt\n",
    "%matplotlib inline\n",
    "cdf.plot(kind='hist')\n",
    "plt.xlabel('Severity')\n",
    "plt.ylabel('Frequency')\n",
    "plt.show()"
   ]
  },
  {
   "cell_type": "code",
   "execution_count": 12,
   "metadata": {},
   "outputs": [
    {
     "data": {
      "text/plain": [
       "0    126270\n",
       "1     56625\n",
       "Name: SEVERITYCODE, dtype: int64"
      ]
     },
     "execution_count": 12,
     "metadata": {},
     "output_type": "execute_result"
    }
   ],
   "source": [
    "cdf.SEVERITYCODE.value_counts()"
   ]
  },
  {
   "cell_type": "code",
   "execution_count": null,
   "metadata": {},
   "outputs": [],
   "source": []
  },
  {
   "cell_type": "code",
   "execution_count": 13,
   "metadata": {},
   "outputs": [],
   "source": [
    "\n",
    "from sklearn.utils import resample\n",
    "dfmin=cdf[cdf.SEVERITYCODE==1]\n",
    "dfmaj=cdf[cdf.SEVERITYCODE==0]\n",
    "df_maj_down=resample(dfmaj,replace=False,n_samples=56657,random_state=123)\n",
    "df_cust=pd.concat([dfmin,df_maj_down])"
   ]
  },
  {
   "cell_type": "code",
   "execution_count": 14,
   "metadata": {},
   "outputs": [
    {
     "data": {
      "image/png": "[encoded data removed]",
      "text/plain": [
       "<Figure size 432x288 with 1 Axes>"
      ]
     },
     "metadata": {
      "needs_background": "light"
     },
     "output_type": "display_data"
    }
   ],
   "source": [
    "\n",
    "df_cust.SEVERITYCODE.plot(kind='hist')\n",
    "plt.xlabel('Severity')\n",
    "plt.ylabel('Frequency')\n",
    "plt.show()"
   ]
  },
  {
   "cell_type": "code",
   "execution_count": 15,
   "metadata": {},
   "outputs": [],
   "source": [
    "df_cust = df_cust.reindex(np.random.permutation(df_cust.index))"
   ]
  },
  {
   "cell_type": "code",
   "execution_count": 16,
   "metadata": {},
   "outputs": [
    {
     "data": {
      "image/png": "[encoded data removed]",
      "text/plain": [
       "<Figure size 432x288 with 1 Axes>"
      ]
     },
     "metadata": {
      "needs_background": "light"
     },
     "output_type": "display_data"
    }
   ],
   "source": [
    "df_cust[df_cust.SEVERITYCODE==1].ROADCOND.value_counts().plot(kind='bar')\n",
    "plt.title('Severe accidents based on road')\n",
    "plt.ylabel('Number of Accidents')\n",
    "plt.xlabel('Road type')\n",
    "plt.show()"
   ]
  },
  {
   "cell_type": "code",
   "execution_count": 17,
   "metadata": {},
   "outputs": [
    {
     "data": {
      "image/png": "[encoded data removed]",
      "text/plain": [
       "<Figure size 432x288 with 1 Axes>"
      ]
     },
     "metadata": {
      "needs_background": "light"
     },
     "output_type": "display_data"
    }
   ],
   "source": [
    "df_cust[df_cust.SEVERITYCODE==1].ADDRTYPE.value_counts().plot(kind='bar')\n",
    "plt.title('Severe accidents based on place')\n",
    "plt.ylabel('Number of Accidents')\n",
    "plt.xlabel('Address Type')\n",
    "plt.show()"
   ]
  },
  {
   "cell_type": "code",
   "execution_count": 18,
   "metadata": {
    "scrolled": true
   },
   "outputs": [
    {
     "data": {
      "image/png": "[encoded data removed]",
      "text/plain": [
       "<Figure size 432x288 with 1 Axes>"
      ]
     },
     "metadata": {
      "needs_background": "light"
     },
     "output_type": "display_data"
    }
   ],
   "source": [
    "df_cust[df_cust.SEVERITYCODE==1].LIGHTCOND.value_counts().plot(kind='bar')\n",
    "plt.title('Severe accidents based on light-conditions')\n",
    "plt.ylabel('Number of Accidents')\n",
    "plt.xlabel('Lights Conditions')\n",
    "plt.show()"
   ]
  },
  {
   "cell_type": "code",
   "execution_count": 19,
   "metadata": {},
   "outputs": [
    {
     "data": {
      "image/png": "[encoded data removed]",
      "text/plain": [
       "<Figure size 432x288 with 1 Axes>"
      ]
     },
     "metadata": {
      "needs_background": "light"
     },
     "output_type": "display_data"
    }
   ],
   "source": [
    "df_cust[df_cust.SEVERITYCODE==1].COLLISIONTYPE.value_counts().plot(kind='bar')\n",
    "plt.title('Severe Accidents based on Collision Type')\n",
    "plt.ylabel('Number of Accidents')\n",
    "plt.xlabel('Collision type')\n",
    "plt.show()\n"
   ]
  },
  {
   "cell_type": "code",
   "execution_count": 20,
   "metadata": {},
   "outputs": [
    {
     "data": {
      "image/png": "[encoded data removed]",
      "text/plain": [
       "<Figure size 432x288 with 1 Axes>"
      ]
     },
     "metadata": {
      "needs_background": "light"
     },
     "output_type": "display_data"
    }
   ],
   "source": [
    "df_cust[df_cust.SEVERITYCODE==1].WEATHER.value_counts().plot(kind='bar')\n",
    "plt.title('Severe Accident based on Weather')\n",
    "plt.ylabel('Number of Accidents')\n",
    "plt.xlabel('Weather type')\n",
    "plt.show()\n"
   ]
  },
  {
   "cell_type": "code",
   "execution_count": 21,
   "metadata": {},
   "outputs": [
    {
     "data": {
      "text/plain": [
       "0    56657\n",
       "1    56625\n",
       "Name: SEVERITYCODE, dtype: int64"
      ]
     },
     "execution_count": 21,
     "metadata": {},
     "output_type": "execute_result"
    }
   ],
   "source": [
    "\n",
    "df_cust.SEVERITYCODE.value_counts()"
   ]
  },
  {
   "cell_type": "code",
   "execution_count": 22,
   "metadata": {},
   "outputs": [
    {
     "name": "stdout",
     "output_type": "stream",
     "text": [
      "SEVERITYCODE : 2\n",
      "WEATHER : 11\n",
      "ADDRTYPE : 3\n",
      "COLLISIONTYPE : 10\n",
      "ROADCOND : 9\n",
      "LIGHTCOND : 9\n"
     ]
    }
   ],
   "source": [
    "for col in df_cust[0:]:\n",
    "    print(col, ':' , len(df_cust[col].unique()))"
   ]
  },
  {
   "cell_type": "code",
   "execution_count": 23,
   "metadata": {},
   "outputs": [],
   "source": [
    "\n",
    "df_collision_freq=df_cust.COLLISIONTYPE.value_counts().to_dict()"
   ]
  },
  {
   "cell_type": "code",
   "execution_count": 24,
   "metadata": {},
   "outputs": [],
   "source": [
    "df_cust.COLLISIONTYPE=df.COLLISIONTYPE.map(df_collision_freq)"
   ]
  },
  {
   "cell_type": "code",
   "execution_count": 25,
   "metadata": {},
   "outputs": [
    {
     "data": {
      "text/html": [
       "<div>\n",
       "<style scoped>\n",
       "    .dataframe tbody tr th:only-of-type {\n",
       "        vertical-align: middle;\n",
       "    }\n",
       "\n",
       "    .dataframe tbody tr th {\n",
       "        vertical-align: top;\n",
       "    }\n",
       "\n",
       "    .dataframe thead th {\n",
       "        text-align: right;\n",
       "    }\n",
       "</style>\n",
       "<table border=\"1\" class=\"dataframe\">\n",
       "  <thead>\n",
       "    <tr style=\"text-align: right;\">\n",
       "      <th></th>\n",
       "      <th>SEVERITYCODE</th>\n",
       "      <th>WEATHER</th>\n",
       "      <th>ADDRTYPE</th>\n",
       "      <th>COLLISIONTYPE</th>\n",
       "      <th>ROADCOND</th>\n",
       "      <th>LIGHTCOND</th>\n",
       "    </tr>\n",
       "  </thead>\n",
       "  <tbody>\n",
       "    <tr>\n",
       "      <th>148351</th>\n",
       "      <td>1</td>\n",
       "      <td>Clear</td>\n",
       "      <td>Block</td>\n",
       "      <td>23041.0</td>\n",
       "      <td>Dry</td>\n",
       "      <td>Daylight</td>\n",
       "    </tr>\n",
       "    <tr>\n",
       "      <th>159955</th>\n",
       "      <td>1</td>\n",
       "      <td>Raining</td>\n",
       "      <td>Intersection</td>\n",
       "      <td>4999.0</td>\n",
       "      <td>Wet</td>\n",
       "      <td>Daylight</td>\n",
       "    </tr>\n",
       "    <tr>\n",
       "      <th>58598</th>\n",
       "      <td>1</td>\n",
       "      <td>Clear</td>\n",
       "      <td>Block</td>\n",
       "      <td>13755.0</td>\n",
       "      <td>Dry</td>\n",
       "      <td>Dark - Street Lights On</td>\n",
       "    </tr>\n",
       "    <tr>\n",
       "      <th>7716</th>\n",
       "      <td>1</td>\n",
       "      <td>Clear</td>\n",
       "      <td>Block</td>\n",
       "      <td>13755.0</td>\n",
       "      <td>Dry</td>\n",
       "      <td>Daylight</td>\n",
       "    </tr>\n",
       "    <tr>\n",
       "      <th>118827</th>\n",
       "      <td>0</td>\n",
       "      <td>Clear</td>\n",
       "      <td>Block</td>\n",
       "      <td>20719.0</td>\n",
       "      <td>Dry</td>\n",
       "      <td>Daylight</td>\n",
       "    </tr>\n",
       "  </tbody>\n",
       "</table>\n",
       "</div>"
      ],
      "text/plain": [
       "        SEVERITYCODE  WEATHER      ADDRTYPE  COLLISIONTYPE ROADCOND  \\\n",
       "148351             1    Clear         Block        23041.0      Dry   \n",
       "159955             1  Raining  Intersection         4999.0      Wet   \n",
       "58598              1    Clear         Block        13755.0      Dry   \n",
       "7716               1    Clear         Block        13755.0      Dry   \n",
       "118827             0    Clear         Block        20719.0      Dry   \n",
       "\n",
       "                      LIGHTCOND  \n",
       "148351                 Daylight  \n",
       "159955                 Daylight  \n",
       "58598   Dark - Street Lights On  \n",
       "7716                   Daylight  \n",
       "118827                 Daylight  "
      ]
     },
     "execution_count": 25,
     "metadata": {},
     "output_type": "execute_result"
    }
   ],
   "source": [
    "\n",
    "df_cust.head(5)"
   ]
  },
  {
   "cell_type": "code",
   "execution_count": 26,
   "metadata": {},
   "outputs": [],
   "source": [
    "df_road_freq=df_cust.ROADCOND.value_counts().to_dict()\n",
    "df_cust.ROADCOND=df.ROADCOND.map(df_road_freq)\n"
   ]
  },
  {
   "cell_type": "code",
   "execution_count": 27,
   "metadata": {},
   "outputs": [
    {
     "data": {
      "text/html": [
       "<div>\n",
       "<style scoped>\n",
       "    .dataframe tbody tr th:only-of-type {\n",
       "        vertical-align: middle;\n",
       "    }\n",
       "\n",
       "    .dataframe tbody tr th {\n",
       "        vertical-align: top;\n",
       "    }\n",
       "\n",
       "    .dataframe thead th {\n",
       "        text-align: right;\n",
       "    }\n",
       "</style>\n",
       "<table border=\"1\" class=\"dataframe\">\n",
       "  <thead>\n",
       "    <tr style=\"text-align: right;\">\n",
       "      <th></th>\n",
       "      <th>SEVERITYCODE</th>\n",
       "      <th>WEATHER</th>\n",
       "      <th>ADDRTYPE</th>\n",
       "      <th>COLLISIONTYPE</th>\n",
       "      <th>ROADCOND</th>\n",
       "      <th>LIGHTCOND</th>\n",
       "    </tr>\n",
       "  </thead>\n",
       "  <tbody>\n",
       "    <tr>\n",
       "      <th>148351</th>\n",
       "      <td>1</td>\n",
       "      <td>Clear</td>\n",
       "      <td>Block</td>\n",
       "      <td>23041.0</td>\n",
       "      <td>76729.0</td>\n",
       "      <td>Daylight</td>\n",
       "    </tr>\n",
       "    <tr>\n",
       "      <th>159955</th>\n",
       "      <td>1</td>\n",
       "      <td>Raining</td>\n",
       "      <td>Intersection</td>\n",
       "      <td>4999.0</td>\n",
       "      <td>29561.0</td>\n",
       "      <td>Daylight</td>\n",
       "    </tr>\n",
       "    <tr>\n",
       "      <th>58598</th>\n",
       "      <td>1</td>\n",
       "      <td>Clear</td>\n",
       "      <td>Block</td>\n",
       "      <td>13755.0</td>\n",
       "      <td>76729.0</td>\n",
       "      <td>Dark - Street Lights On</td>\n",
       "    </tr>\n",
       "    <tr>\n",
       "      <th>7716</th>\n",
       "      <td>1</td>\n",
       "      <td>Clear</td>\n",
       "      <td>Block</td>\n",
       "      <td>13755.0</td>\n",
       "      <td>76729.0</td>\n",
       "      <td>Daylight</td>\n",
       "    </tr>\n",
       "    <tr>\n",
       "      <th>118827</th>\n",
       "      <td>0</td>\n",
       "      <td>Clear</td>\n",
       "      <td>Block</td>\n",
       "      <td>20719.0</td>\n",
       "      <td>76729.0</td>\n",
       "      <td>Daylight</td>\n",
       "    </tr>\n",
       "  </tbody>\n",
       "</table>\n",
       "</div>"
      ],
      "text/plain": [
       "        SEVERITYCODE  WEATHER      ADDRTYPE  COLLISIONTYPE  ROADCOND  \\\n",
       "148351             1    Clear         Block        23041.0   76729.0   \n",
       "159955             1  Raining  Intersection         4999.0   29561.0   \n",
       "58598              1    Clear         Block        13755.0   76729.0   \n",
       "7716               1    Clear         Block        13755.0   76729.0   \n",
       "118827             0    Clear         Block        20719.0   76729.0   \n",
       "\n",
       "                      LIGHTCOND  \n",
       "148351                 Daylight  \n",
       "159955                 Daylight  \n",
       "58598   Dark - Street Lights On  \n",
       "7716                   Daylight  \n",
       "118827                 Daylight  "
      ]
     },
     "execution_count": 27,
     "metadata": {},
     "output_type": "execute_result"
    }
   ],
   "source": [
    "df_cust.head()"
   ]
  },
  {
   "cell_type": "code",
   "execution_count": 28,
   "metadata": {},
   "outputs": [],
   "source": [
    "df_light_freq=df_cust.LIGHTCOND.value_counts().to_dict()"
   ]
  },
  {
   "cell_type": "code",
   "execution_count": 29,
   "metadata": {},
   "outputs": [],
   "source": [
    "df_cust.LIGHTCOND=df_cust.LIGHTCOND.map(df_light_freq)"
   ]
  },
  {
   "cell_type": "code",
   "execution_count": 30,
   "metadata": {},
   "outputs": [],
   "source": [
    "df_weather_freq=df_cust.WEATHER.value_counts().to_dict()"
   ]
  },
  {
   "cell_type": "code",
   "execution_count": 31,
   "metadata": {},
   "outputs": [],
   "source": [
    "df_cust.WEATHER=df_cust.WEATHER.map(df_weather_freq)"
   ]
  },
  {
   "cell_type": "code",
   "execution_count": 32,
   "metadata": {},
   "outputs": [
    {
     "data": {
      "text/html": [
       "<div>\n",
       "<style scoped>\n",
       "    .dataframe tbody tr th:only-of-type {\n",
       "        vertical-align: middle;\n",
       "    }\n",
       "\n",
       "    .dataframe tbody tr th {\n",
       "        vertical-align: top;\n",
       "    }\n",
       "\n",
       "    .dataframe thead th {\n",
       "        text-align: right;\n",
       "    }\n",
       "</style>\n",
       "<table border=\"1\" class=\"dataframe\">\n",
       "  <thead>\n",
       "    <tr style=\"text-align: right;\">\n",
       "      <th></th>\n",
       "      <th>Alley</th>\n",
       "      <th>Block</th>\n",
       "      <th>Intersection</th>\n",
       "    </tr>\n",
       "  </thead>\n",
       "  <tbody>\n",
       "    <tr>\n",
       "      <th>148351</th>\n",
       "      <td>0</td>\n",
       "      <td>1</td>\n",
       "      <td>0</td>\n",
       "    </tr>\n",
       "    <tr>\n",
       "      <th>159955</th>\n",
       "      <td>0</td>\n",
       "      <td>0</td>\n",
       "      <td>1</td>\n",
       "    </tr>\n",
       "    <tr>\n",
       "      <th>58598</th>\n",
       "      <td>0</td>\n",
       "      <td>1</td>\n",
       "      <td>0</td>\n",
       "    </tr>\n",
       "  </tbody>\n",
       "</table>\n",
       "</div>"
      ],
      "text/plain": [
       "        Alley  Block  Intersection\n",
       "148351      0      1             0\n",
       "159955      0      0             1\n",
       "58598       0      1             0"
      ]
     },
     "execution_count": 32,
     "metadata": {},
     "output_type": "execute_result"
    }
   ],
   "source": [
    "addr_dummy=pd.get_dummies(df_cust.ADDRTYPE)\n",
    "addr_dummy.head(3)"
   ]
  },
  {
   "cell_type": "code",
   "execution_count": 33,
   "metadata": {},
   "outputs": [],
   "source": [
    "df_new=df_cust.reset_index()"
   ]
  },
  {
   "cell_type": "code",
   "execution_count": 34,
   "metadata": {},
   "outputs": [
    {
     "data": {
      "text/html": [
       "<div>\n",
       "<style scoped>\n",
       "    .dataframe tbody tr th:only-of-type {\n",
       "        vertical-align: middle;\n",
       "    }\n",
       "\n",
       "    .dataframe tbody tr th {\n",
       "        vertical-align: top;\n",
       "    }\n",
       "\n",
       "    .dataframe thead th {\n",
       "        text-align: right;\n",
       "    }\n",
       "</style>\n",
       "<table border=\"1\" class=\"dataframe\">\n",
       "  <thead>\n",
       "    <tr style=\"text-align: right;\">\n",
       "      <th></th>\n",
       "      <th>index</th>\n",
       "      <th>SEVERITYCODE</th>\n",
       "      <th>WEATHER</th>\n",
       "      <th>ADDRTYPE</th>\n",
       "      <th>COLLISIONTYPE</th>\n",
       "      <th>ROADCOND</th>\n",
       "      <th>LIGHTCOND</th>\n",
       "    </tr>\n",
       "  </thead>\n",
       "  <tbody>\n",
       "    <tr>\n",
       "      <th>0</th>\n",
       "      <td>148351</td>\n",
       "      <td>1</td>\n",
       "      <td>68555</td>\n",
       "      <td>Block</td>\n",
       "      <td>23041.0</td>\n",
       "      <td>76729.0</td>\n",
       "      <td>72061</td>\n",
       "    </tr>\n",
       "    <tr>\n",
       "      <th>1</th>\n",
       "      <td>159955</td>\n",
       "      <td>1</td>\n",
       "      <td>20705</td>\n",
       "      <td>Intersection</td>\n",
       "      <td>4999.0</td>\n",
       "      <td>29561.0</td>\n",
       "      <td>72061</td>\n",
       "    </tr>\n",
       "    <tr>\n",
       "      <th>2</th>\n",
       "      <td>58598</td>\n",
       "      <td>1</td>\n",
       "      <td>68555</td>\n",
       "      <td>Block</td>\n",
       "      <td>13755.0</td>\n",
       "      <td>76729.0</td>\n",
       "      <td>29354</td>\n",
       "    </tr>\n",
       "    <tr>\n",
       "      <th>3</th>\n",
       "      <td>7716</td>\n",
       "      <td>1</td>\n",
       "      <td>68555</td>\n",
       "      <td>Block</td>\n",
       "      <td>13755.0</td>\n",
       "      <td>76729.0</td>\n",
       "      <td>72061</td>\n",
       "    </tr>\n",
       "    <tr>\n",
       "      <th>4</th>\n",
       "      <td>118827</td>\n",
       "      <td>0</td>\n",
       "      <td>68555</td>\n",
       "      <td>Block</td>\n",
       "      <td>20719.0</td>\n",
       "      <td>76729.0</td>\n",
       "      <td>72061</td>\n",
       "    </tr>\n",
       "  </tbody>\n",
       "</table>\n",
       "</div>"
      ],
      "text/plain": [
       "    index  SEVERITYCODE  WEATHER      ADDRTYPE  COLLISIONTYPE  ROADCOND  \\\n",
       "0  148351             1    68555         Block        23041.0   76729.0   \n",
       "1  159955             1    20705  Intersection         4999.0   29561.0   \n",
       "2   58598             1    68555         Block        13755.0   76729.0   \n",
       "3    7716             1    68555         Block        13755.0   76729.0   \n",
       "4  118827             0    68555         Block        20719.0   76729.0   \n",
       "\n",
       "   LIGHTCOND  \n",
       "0      72061  \n",
       "1      72061  \n",
       "2      29354  \n",
       "3      72061  \n",
       "4      72061  "
      ]
     },
     "execution_count": 34,
     "metadata": {},
     "output_type": "execute_result"
    }
   ],
   "source": [
    "df_new.head()"
   ]
  },
  {
   "cell_type": "code",
   "execution_count": 35,
   "metadata": {},
   "outputs": [
    {
     "data": {
      "text/html": [
       "<div>\n",
       "<style scoped>\n",
       "    .dataframe tbody tr th:only-of-type {\n",
       "        vertical-align: middle;\n",
       "    }\n",
       "\n",
       "    .dataframe tbody tr th {\n",
       "        vertical-align: top;\n",
       "    }\n",
       "\n",
       "    .dataframe thead th {\n",
       "        text-align: right;\n",
       "    }\n",
       "</style>\n",
       "<table border=\"1\" class=\"dataframe\">\n",
       "  <thead>\n",
       "    <tr style=\"text-align: right;\">\n",
       "      <th></th>\n",
       "      <th>index</th>\n",
       "      <th>Alley</th>\n",
       "      <th>Block</th>\n",
       "      <th>Intersection</th>\n",
       "    </tr>\n",
       "  </thead>\n",
       "  <tbody>\n",
       "    <tr>\n",
       "      <th>0</th>\n",
       "      <td>148351</td>\n",
       "      <td>0</td>\n",
       "      <td>1</td>\n",
       "      <td>0</td>\n",
       "    </tr>\n",
       "    <tr>\n",
       "      <th>1</th>\n",
       "      <td>159955</td>\n",
       "      <td>0</td>\n",
       "      <td>0</td>\n",
       "      <td>1</td>\n",
       "    </tr>\n",
       "    <tr>\n",
       "      <th>2</th>\n",
       "      <td>58598</td>\n",
       "      <td>0</td>\n",
       "      <td>1</td>\n",
       "      <td>0</td>\n",
       "    </tr>\n",
       "  </tbody>\n",
       "</table>\n",
       "</div>"
      ],
      "text/plain": [
       "    index  Alley  Block  Intersection\n",
       "0  148351      0      1             0\n",
       "1  159955      0      0             1\n",
       "2   58598      0      1             0"
      ]
     },
     "execution_count": 35,
     "metadata": {},
     "output_type": "execute_result"
    }
   ],
   "source": [
    "addr_dummy=addr_dummy.reset_index()\n",
    "addr_dummy.head(3)\n"
   ]
  },
  {
   "cell_type": "code",
   "execution_count": 36,
   "metadata": {},
   "outputs": [
    {
     "data": {
      "text/html": [
       "<div>\n",
       "<style scoped>\n",
       "    .dataframe tbody tr th:only-of-type {\n",
       "        vertical-align: middle;\n",
       "    }\n",
       "\n",
       "    .dataframe tbody tr th {\n",
       "        vertical-align: top;\n",
       "    }\n",
       "\n",
       "    .dataframe thead th {\n",
       "        text-align: right;\n",
       "    }\n",
       "</style>\n",
       "<table border=\"1\" class=\"dataframe\">\n",
       "  <thead>\n",
       "    <tr style=\"text-align: right;\">\n",
       "      <th></th>\n",
       "      <th>Alley</th>\n",
       "      <th>Block</th>\n",
       "      <th>Intersection</th>\n",
       "    </tr>\n",
       "  </thead>\n",
       "  <tbody>\n",
       "    <tr>\n",
       "      <th>0</th>\n",
       "      <td>0</td>\n",
       "      <td>1</td>\n",
       "      <td>0</td>\n",
       "    </tr>\n",
       "    <tr>\n",
       "      <th>1</th>\n",
       "      <td>0</td>\n",
       "      <td>0</td>\n",
       "      <td>1</td>\n",
       "    </tr>\n",
       "    <tr>\n",
       "      <th>2</th>\n",
       "      <td>0</td>\n",
       "      <td>1</td>\n",
       "      <td>0</td>\n",
       "    </tr>\n",
       "  </tbody>\n",
       "</table>\n",
       "</div>"
      ],
      "text/plain": [
       "   Alley  Block  Intersection\n",
       "0      0      1             0\n",
       "1      0      0             1\n",
       "2      0      1             0"
      ]
     },
     "execution_count": 36,
     "metadata": {},
     "output_type": "execute_result"
    }
   ],
   "source": [
    "addr_dummy.drop('index',axis=1,inplace=True)\n",
    "addr_dummy.head(3)"
   ]
  },
  {
   "cell_type": "code",
   "execution_count": 37,
   "metadata": {},
   "outputs": [
    {
     "data": {
      "text/html": [
       "<div>\n",
       "<style scoped>\n",
       "    .dataframe tbody tr th:only-of-type {\n",
       "        vertical-align: middle;\n",
       "    }\n",
       "\n",
       "    .dataframe tbody tr th {\n",
       "        vertical-align: top;\n",
       "    }\n",
       "\n",
       "    .dataframe thead th {\n",
       "        text-align: right;\n",
       "    }\n",
       "</style>\n",
       "<table border=\"1\" class=\"dataframe\">\n",
       "  <thead>\n",
       "    <tr style=\"text-align: right;\">\n",
       "      <th></th>\n",
       "      <th>index</th>\n",
       "      <th>SEVERITYCODE</th>\n",
       "      <th>WEATHER</th>\n",
       "      <th>ADDRTYPE</th>\n",
       "      <th>COLLISIONTYPE</th>\n",
       "      <th>ROADCOND</th>\n",
       "      <th>LIGHTCOND</th>\n",
       "    </tr>\n",
       "  </thead>\n",
       "  <tbody>\n",
       "    <tr>\n",
       "      <th>0</th>\n",
       "      <td>148351</td>\n",
       "      <td>1</td>\n",
       "      <td>68555</td>\n",
       "      <td>Block</td>\n",
       "      <td>23041.0</td>\n",
       "      <td>76729.0</td>\n",
       "      <td>72061</td>\n",
       "    </tr>\n",
       "    <tr>\n",
       "      <th>1</th>\n",
       "      <td>159955</td>\n",
       "      <td>1</td>\n",
       "      <td>20705</td>\n",
       "      <td>Intersection</td>\n",
       "      <td>4999.0</td>\n",
       "      <td>29561.0</td>\n",
       "      <td>72061</td>\n",
       "    </tr>\n",
       "    <tr>\n",
       "      <th>2</th>\n",
       "      <td>58598</td>\n",
       "      <td>1</td>\n",
       "      <td>68555</td>\n",
       "      <td>Block</td>\n",
       "      <td>13755.0</td>\n",
       "      <td>76729.0</td>\n",
       "      <td>29354</td>\n",
       "    </tr>\n",
       "    <tr>\n",
       "      <th>3</th>\n",
       "      <td>7716</td>\n",
       "      <td>1</td>\n",
       "      <td>68555</td>\n",
       "      <td>Block</td>\n",
       "      <td>13755.0</td>\n",
       "      <td>76729.0</td>\n",
       "      <td>72061</td>\n",
       "    </tr>\n",
       "    <tr>\n",
       "      <th>4</th>\n",
       "      <td>118827</td>\n",
       "      <td>0</td>\n",
       "      <td>68555</td>\n",
       "      <td>Block</td>\n",
       "      <td>20719.0</td>\n",
       "      <td>76729.0</td>\n",
       "      <td>72061</td>\n",
       "    </tr>\n",
       "  </tbody>\n",
       "</table>\n",
       "</div>"
      ],
      "text/plain": [
       "    index  SEVERITYCODE  WEATHER      ADDRTYPE  COLLISIONTYPE  ROADCOND  \\\n",
       "0  148351             1    68555         Block        23041.0   76729.0   \n",
       "1  159955             1    20705  Intersection         4999.0   29561.0   \n",
       "2   58598             1    68555         Block        13755.0   76729.0   \n",
       "3    7716             1    68555         Block        13755.0   76729.0   \n",
       "4  118827             0    68555         Block        20719.0   76729.0   \n",
       "\n",
       "   LIGHTCOND  \n",
       "0      72061  \n",
       "1      72061  \n",
       "2      29354  \n",
       "3      72061  \n",
       "4      72061  "
      ]
     },
     "execution_count": 37,
     "metadata": {},
     "output_type": "execute_result"
    }
   ],
   "source": [
    "df_new.head()"
   ]
  },
  {
   "cell_type": "code",
   "execution_count": 38,
   "metadata": {},
   "outputs": [],
   "source": [
    "df_new2=pd.concat([df_new,addr_dummy],axis=1)"
   ]
  },
  {
   "cell_type": "code",
   "execution_count": 39,
   "metadata": {},
   "outputs": [
    {
     "data": {
      "text/html": [
       "<div>\n",
       "<style scoped>\n",
       "    .dataframe tbody tr th:only-of-type {\n",
       "        vertical-align: middle;\n",
       "    }\n",
       "\n",
       "    .dataframe tbody tr th {\n",
       "        vertical-align: top;\n",
       "    }\n",
       "\n",
       "    .dataframe thead th {\n",
       "        text-align: right;\n",
       "    }\n",
       "</style>\n",
       "<table border=\"1\" class=\"dataframe\">\n",
       "  <thead>\n",
       "    <tr style=\"text-align: right;\">\n",
       "      <th></th>\n",
       "      <th>index</th>\n",
       "      <th>SEVERITYCODE</th>\n",
       "      <th>WEATHER</th>\n",
       "      <th>COLLISIONTYPE</th>\n",
       "      <th>ROADCOND</th>\n",
       "      <th>LIGHTCOND</th>\n",
       "      <th>Alley</th>\n",
       "      <th>Block</th>\n",
       "      <th>Intersection</th>\n",
       "    </tr>\n",
       "  </thead>\n",
       "  <tbody>\n",
       "    <tr>\n",
       "      <th>0</th>\n",
       "      <td>148351</td>\n",
       "      <td>1</td>\n",
       "      <td>68555</td>\n",
       "      <td>23041.0</td>\n",
       "      <td>76729.0</td>\n",
       "      <td>72061</td>\n",
       "      <td>0</td>\n",
       "      <td>1</td>\n",
       "      <td>0</td>\n",
       "    </tr>\n",
       "    <tr>\n",
       "      <th>1</th>\n",
       "      <td>159955</td>\n",
       "      <td>1</td>\n",
       "      <td>20705</td>\n",
       "      <td>4999.0</td>\n",
       "      <td>29561.0</td>\n",
       "      <td>72061</td>\n",
       "      <td>0</td>\n",
       "      <td>0</td>\n",
       "      <td>1</td>\n",
       "    </tr>\n",
       "    <tr>\n",
       "      <th>2</th>\n",
       "      <td>58598</td>\n",
       "      <td>1</td>\n",
       "      <td>68555</td>\n",
       "      <td>13755.0</td>\n",
       "      <td>76729.0</td>\n",
       "      <td>29354</td>\n",
       "      <td>0</td>\n",
       "      <td>1</td>\n",
       "      <td>0</td>\n",
       "    </tr>\n",
       "    <tr>\n",
       "      <th>3</th>\n",
       "      <td>7716</td>\n",
       "      <td>1</td>\n",
       "      <td>68555</td>\n",
       "      <td>13755.0</td>\n",
       "      <td>76729.0</td>\n",
       "      <td>72061</td>\n",
       "      <td>0</td>\n",
       "      <td>1</td>\n",
       "      <td>0</td>\n",
       "    </tr>\n",
       "    <tr>\n",
       "      <th>4</th>\n",
       "      <td>118827</td>\n",
       "      <td>0</td>\n",
       "      <td>68555</td>\n",
       "      <td>20719.0</td>\n",
       "      <td>76729.0</td>\n",
       "      <td>72061</td>\n",
       "      <td>0</td>\n",
       "      <td>1</td>\n",
       "      <td>0</td>\n",
       "    </tr>\n",
       "  </tbody>\n",
       "</table>\n",
       "</div>"
      ],
      "text/plain": [
       "    index  SEVERITYCODE  WEATHER  COLLISIONTYPE  ROADCOND  LIGHTCOND  Alley  \\\n",
       "0  148351             1    68555        23041.0   76729.0      72061      0   \n",
       "1  159955             1    20705         4999.0   29561.0      72061      0   \n",
       "2   58598             1    68555        13755.0   76729.0      29354      0   \n",
       "3    7716             1    68555        13755.0   76729.0      72061      0   \n",
       "4  118827             0    68555        20719.0   76729.0      72061      0   \n",
       "\n",
       "   Block  Intersection  \n",
       "0      1             0  \n",
       "1      0             1  \n",
       "2      1             0  \n",
       "3      1             0  \n",
       "4      1             0  "
      ]
     },
     "execution_count": 39,
     "metadata": {},
     "output_type": "execute_result"
    }
   ],
   "source": [
    "df_new2.drop('ADDRTYPE',axis=1,inplace=True)\n",
    "df_new2.head()"
   ]
  },
  {
   "cell_type": "code",
   "execution_count": 40,
   "metadata": {},
   "outputs": [],
   "source": [
    "df_new2.columns=[col.upper() for col in df_new2.columns]"
   ]
  },
  {
   "cell_type": "code",
   "execution_count": 41,
   "metadata": {},
   "outputs": [
    {
     "data": {
      "text/plain": [
       "Index(['INDEX', 'SEVERITYCODE', 'WEATHER', 'COLLISIONTYPE', 'ROADCOND',\n",
       "       'LIGHTCOND', 'ALLEY', 'BLOCK', 'INTERSECTION'],\n",
       "      dtype='object')"
      ]
     },
     "execution_count": 41,
     "metadata": {},
     "output_type": "execute_result"
    }
   ],
   "source": [
    "df_new2.columns"
   ]
  },
  {
   "cell_type": "code",
   "execution_count": 42,
   "metadata": {},
   "outputs": [
    {
     "name": "stdout",
     "output_type": "stream",
     "text": [
      "   WEATHER  COLLISIONTYPE  ROADCOND  LIGHTCOND  ALLEY  BLOCK  INTERSECTION\n",
      "0    68555        23041.0   76729.0      72061      0      1             0\n",
      "1    20705         4999.0   29561.0      72061      0      0             1\n",
      "2    68555        13755.0   76729.0      29354      0      1             0 0    1\n",
      "1    1\n",
      "2    1\n",
      "Name: SEVERITYCODE, dtype: int64\n"
     ]
    }
   ],
   "source": [
    "x_data=df_new2[['WEATHER', 'COLLISIONTYPE', 'ROADCOND',\n",
    "       'LIGHTCOND', 'ALLEY', 'BLOCK', 'INTERSECTION']]\n",
    "y_data=df_new2['SEVERITYCODE']\n",
    "print(x_data.head(3),y_data.head(3))\n"
   ]
  },
  {
   "cell_type": "code",
   "execution_count": 43,
   "metadata": {},
   "outputs": [],
   "source": [
    "from sklearn.model_selection import train_test_split\n",
    "from sklearn.preprocessing import StandardScaler"
   ]
  },
  {
   "cell_type": "code",
   "execution_count": 44,
   "metadata": {},
   "outputs": [],
   "source": [
    "\n",
    "s=StandardScaler()\n",
    "s.fit(x_data)\n",
    "x_scale=s.transform(x_data)"
   ]
  },
  {
   "cell_type": "code",
   "execution_count": 45,
   "metadata": {},
   "outputs": [
    {
     "data": {
      "text/plain": [
       "array([[ 0.80013996,  0.88858629,  0.67249689, ..., -0.03242808,\n",
       "         0.79020089, -0.788448  ],\n",
       "       [-1.07291366, -1.73416056, -1.21970605, ..., -0.03242808,\n",
       "        -1.26550097,  1.26831446],\n",
       "       [ 0.80013996, -0.46130991,  0.67249689, ..., -0.03242808,\n",
       "         0.79020089, -0.788448  ],\n",
       "       ...,\n",
       "       [-1.07291366,  0.87768362, -1.21970605, ..., -0.03242808,\n",
       "        -1.26550097,  1.26831446],\n",
       "       [ 0.80013996, -1.14716068,  0.67249689, ..., -0.03242808,\n",
       "        -1.26550097,  1.26831446],\n",
       "       [ 0.80013996,  0.87768362,  0.67249689, ..., -0.03242808,\n",
       "         0.79020089, -0.788448  ]])"
      ]
     },
     "execution_count": 45,
     "metadata": {},
     "output_type": "execute_result"
    }
   ],
   "source": [
    "x_scale"
   ]
  },
  {
   "cell_type": "code",
   "execution_count": 46,
   "metadata": {},
   "outputs": [],
   "source": [
    "\n",
    "from sklearn.tree import DecisionTreeClassifier"
   ]
  },
  {
   "cell_type": "code",
   "execution_count": 47,
   "metadata": {},
   "outputs": [],
   "source": [
    "xtrain,xtest,ytrain,ytest=train_test_split(x_scale,y_data,test_size=0.2,random_state=1)"
   ]
  },
  {
   "cell_type": "code",
   "execution_count": 48,
   "metadata": {},
   "outputs": [
    {
     "data": {
      "text/plain": [
       "array([[ 0.80013996, -1.06793459,  0.67249689, ..., -0.03242808,\n",
       "        -1.26550097,  1.26831446],\n",
       "       [ 0.80013996,  0.88858629,  0.67249689, ..., -0.03242808,\n",
       "         0.79020089, -0.788448  ],\n",
       "       [ 0.80013996, -0.46130991,  0.67249689, ..., -0.03242808,\n",
       "         0.79020089, -0.788448  ],\n",
       "       ...,\n",
       "       [ 0.80013996, -1.73416056,  0.67249689, ..., -0.03242808,\n",
       "         0.79020089, -0.788448  ],\n",
       "       [-1.07291366,  0.88858629, -1.21970605, ..., -0.03242808,\n",
       "         0.79020089, -0.788448  ],\n",
       "       [ 0.80013996,  0.88858629,  0.67249689, ..., -0.03242808,\n",
       "         0.79020089, -0.788448  ]])"
      ]
     },
     "execution_count": 48,
     "metadata": {},
     "output_type": "execute_result"
    }
   ],
   "source": [
    "\n",
    "xtrain"
   ]
  },
  {
   "cell_type": "code",
   "execution_count": 49,
   "metadata": {},
   "outputs": [
    {
     "data": {
      "text/plain": [
       "DecisionTreeClassifier(ccp_alpha=0.0, class_weight=None, criterion='entropy',\n",
       "                       max_depth=10, max_features=None, max_leaf_nodes=None,\n",
       "                       min_impurity_decrease=0.0, min_impurity_split=None,\n",
       "                       min_samples_leaf=1, min_samples_split=2,\n",
       "                       min_weight_fraction_leaf=0.0, presort='deprecated',\n",
       "                       random_state=None, splitter='best')"
      ]
     },
     "execution_count": 49,
     "metadata": {},
     "output_type": "execute_result"
    }
   ],
   "source": [
    "dt=DecisionTreeClassifier(criterion=\"entropy\",max_depth=10)\n",
    "dt.fit(xtrain,ytrain)"
   ]
  },
  {
   "cell_type": "code",
   "execution_count": 50,
   "metadata": {},
   "outputs": [],
   "source": [
    "yhat=dt.predict(xtest)"
   ]
  },
  {
   "cell_type": "code",
   "execution_count": 51,
   "metadata": {},
   "outputs": [
    {
     "name": "stdout",
     "output_type": "stream",
     "text": [
      "F1 Score: 0.697826973154094\n",
      "Accuracy-Score: 0.6986803195480425\n"
     ]
    }
   ],
   "source": [
    "from sklearn import metrics\n",
    "from sklearn.metrics import f1_score\n",
    "#from sklearn.metrics import jaccard_similarity_score\n",
    "print('F1 Score:',f1_score(ytest,yhat,average='weighted'))\n",
    "print('Accuracy-Score:', metrics.accuracy_score(ytest,yhat))"
   ]
  },
  {
   "cell_type": "code",
   "execution_count": 52,
   "metadata": {},
   "outputs": [
    {
     "data": {
      "text/plain": [
       "array([0, 1, 1, 0, 1, 1, 1, 1, 1, 1], dtype=int64)"
      ]
     },
     "execution_count": 52,
     "metadata": {},
     "output_type": "execute_result"
    }
   ],
   "source": [
    "yhat[0:10]"
   ]
  },
  {
   "cell_type": "code",
   "execution_count": 53,
   "metadata": {},
   "outputs": [
    {
     "name": "stdout",
     "output_type": "stream",
     "text": [
      "{1: 0.5997704903561814, 2: 0.6326080240102396, 3: 0.6780244516043606, 4: 0.6716687999293817, 5: 0.678112724544291, 6: 0.6742287151873593, 7: 0.6846007856291654, 8: 0.684821467978991, 9: 0.6856159244383634}\n"
     ]
    }
   ],
   "source": [
    "from sklearn.neighbors import KNeighborsClassifier\n",
    "li={}\n",
    "for k in range(1,10):\n",
    "    neig=KNeighborsClassifier(n_neighbors=k).fit(xtrain,ytrain)\n",
    "    yhat=neig.predict(xtest)\n",
    "    acc_score=metrics.accuracy_score(ytest,yhat)\n",
    "    li[k]=acc_score\n",
    "print(li)"
   ]
  },
  {
   "cell_type": "code",
   "execution_count": 54,
   "metadata": {},
   "outputs": [
    {
     "data": {
      "text/plain": [
       "9"
      ]
     },
     "execution_count": 54,
     "metadata": {},
     "output_type": "execute_result"
    }
   ],
   "source": [
    "best_k = max(li, key=li.get)\n",
    "best_k"
   ]
  },
  {
   "cell_type": "code",
   "execution_count": 55,
   "metadata": {},
   "outputs": [
    {
     "name": "stdout",
     "output_type": "stream",
     "text": [
      "Best K for KNN model : 9\n"
     ]
    }
   ],
   "source": [
    "\n",
    "neig=KNeighborsClassifier(n_neighbors=best_k).fit(xtrain,ytrain)\n",
    "yhat=neig.predict(xtest)\n",
    "print('Best K for KNN model :',best_k)"
   ]
  },
  {
   "cell_type": "markdown",
   "metadata": {},
   "source": [
    "**Logistic Regression**"
   ]
  },
  {
   "cell_type": "code",
   "execution_count": 56,
   "metadata": {},
   "outputs": [],
   "source": [
    "from sklearn.linear_model import LogisticRegression\n",
    "lr=LogisticRegression()\n",
    "lr.fit(xtrain,ytrain)\n",
    "yhat=lr.predict(xtest)"
   ]
  },
  {
   "cell_type": "code",
   "execution_count": 57,
   "metadata": {},
   "outputs": [
    {
     "name": "stdout",
     "output_type": "stream",
     "text": [
      "f1 score: 0.5778275475923852\n",
      "Accuracy score: 0.6006532197554839\n"
     ]
    }
   ],
   "source": [
    "print('f1 score:',metrics.f1_score(ytest,yhat))\n",
    "print('Accuracy score:',metrics.accuracy_score(ytest,yhat))\n"
   ]
  },
  {
   "cell_type": "markdown",
   "metadata": {},
   "source": [
    "**Support Vector Machines (SVM)**"
   ]
  },
  {
   "cell_type": "code",
   "execution_count": null,
   "metadata": {},
   "outputs": [],
   "source": [
    "from sklearn import svm\n",
    "clf=svm.SVC(kernel='rbf')\n",
    "clf.fit(xtrain,ytrain)\n",
    "yhat_svm=clf.predict(xtest)"
   ]
  },
  {
   "cell_type": "code",
   "execution_count": null,
   "metadata": {},
   "outputs": [],
   "source": [
    "from sklearn.metrics import classification_report,confusion_matrix\n",
    "import itertools\n",
    "cnf=confusion_matrix(ytest,yhat_svm)\n",
    "np.set_printoptions(precision=2)\n",
    "print('Classification Report:\\n',classification_report(ytest,yhat_svm))"
   ]
  },
  {
   "cell_type": "code",
   "execution_count": null,
   "metadata": {},
   "outputs": [],
   "source": [
    "print('f1 score:' , metrics.f1_score(ytest,yhat_svm))"
   ]
  },
  {
   "cell_type": "code",
   "execution_count": null,
   "metadata": {},
   "outputs": [],
   "source": [
    "print('Accuracy_score:',metrics.accuracy_score(ytest,yhat_svm))"
   ]
  },
  {
   "cell_type": "code",
   "execution_count": null,
   "metadata": {},
   "outputs": [],
   "source": []
  }
 ],
 "metadata": {
  "kernelspec": {
   "display_name": "Python 3",
   "language": "python",
   "name": "python3"
  },
  "language_info": {
   "codemirror_mode": {
    "name": "ipython",
    "version": 3
   },
   "file_extension": ".py",
   "mimetype": "text/x-python",
   "name": "python",
   "nbconvert_exporter": "python",
   "pygments_lexer": "ipython3",
   "version": "3.7.6"
  }
 },
 "nbformat": 4,
 "nbformat_minor": 4
}
